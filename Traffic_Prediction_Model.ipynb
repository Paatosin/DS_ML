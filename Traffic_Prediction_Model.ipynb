{
 "cells": [
  {
   "cell_type": "markdown",
   "metadata": {},
   "source": [
    "# Problem Statement"
   ]
  },
  {
   "cell_type": "markdown",
   "metadata": {},
   "source": [
    "Use the time and date to create a predictive model to determine the number of cars in a given location "
   ]
  },
  {
   "cell_type": "markdown",
   "metadata": {},
   "source": [
    "# Import Libraries"
   ]
  },
  {
   "cell_type": "code",
   "execution_count": 1,
   "metadata": {},
   "outputs": [],
   "source": [
    "# Pandas and numpy for data manipulation\n",
    "import pandas as pd\n",
    "import numpy as np\n",
    "# Display up to 135 columns of a dataframe\n",
    "pd.set_option('display.max_columns', 135)\n",
    "# Matplotlib visualization\n",
    "import matplotlib.pyplot as plt\n",
    "%matplotlib inline\n",
    "# Default font size\n",
    "plt.rcParams['font.size'] = 24\n",
    "#Internal ipython tool for setting figure size\n",
    "from IPython.core.pylabtools import figsize\n",
    "# Seaborn for visualization\n",
    "import seaborn as sns\n",
    "sns.set(font_scale = 2)\n",
    "# Splitting data into training and testing\n",
    "from sklearn.model_selection import train_test_split\n",
    "import time\n",
    "np.random.seed(42) # To make notebooks output identical at every run\n",
    "import warnings\n",
    "warnings.filterwarnings('ignore')"
   ]
  },
  {
   "cell_type": "markdown",
   "metadata": {},
   "source": [
    "# Loading data and cleaning"
   ]
  },
  {
   "cell_type": "code",
   "execution_count": 2,
   "metadata": {},
   "outputs": [
    {
     "name": "stdout",
     "output_type": "stream",
     "text": [
      "<class 'pandas.core.frame.DataFrame'>\n",
      "RangeIndex: 50399 entries, 0 to 50398\n",
      "Data columns (total 2 columns):\n",
      "4/10/2005 0:00    50399 non-null object\n",
      "-1                50399 non-null int64\n",
      "dtypes: int64(1), object(1)\n",
      "memory usage: 787.6+ KB\n"
     ]
    }
   ],
   "source": [
    "\n",
    "import os  \n",
    "os.chdir('/Users/tosinbosede/Desktop/Desktop_01_16_19') \n",
    "GTD = 'Dodgers_data.txt' \n",
    "data = pd.read_csv(GTD)\n",
    "data.info()"
   ]
  },
  {
   "cell_type": "markdown",
   "metadata": {},
   "source": [
    "### Looking at data properties"
   ]
  },
  {
   "cell_type": "code",
   "execution_count": 3,
   "metadata": {},
   "outputs": [
    {
     "data": {
      "text/html": [
       "<div>\n",
       "<style scoped>\n",
       "    .dataframe tbody tr th:only-of-type {\n",
       "        vertical-align: middle;\n",
       "    }\n",
       "\n",
       "    .dataframe tbody tr th {\n",
       "        vertical-align: top;\n",
       "    }\n",
       "\n",
       "    .dataframe thead th {\n",
       "        text-align: right;\n",
       "    }\n",
       "</style>\n",
       "<table border=\"1\" class=\"dataframe\">\n",
       "  <thead>\n",
       "    <tr style=\"text-align: right;\">\n",
       "      <th></th>\n",
       "      <th>4/10/2005 0:00</th>\n",
       "      <th>-1</th>\n",
       "    </tr>\n",
       "  </thead>\n",
       "  <tbody>\n",
       "    <tr>\n",
       "      <th>0</th>\n",
       "      <td>4/10/2005 0:05</td>\n",
       "      <td>-1</td>\n",
       "    </tr>\n",
       "    <tr>\n",
       "      <th>1</th>\n",
       "      <td>4/10/2005 0:10</td>\n",
       "      <td>-1</td>\n",
       "    </tr>\n",
       "    <tr>\n",
       "      <th>2</th>\n",
       "      <td>4/10/2005 0:15</td>\n",
       "      <td>-1</td>\n",
       "    </tr>\n",
       "    <tr>\n",
       "      <th>3</th>\n",
       "      <td>4/10/2005 0:20</td>\n",
       "      <td>-1</td>\n",
       "    </tr>\n",
       "    <tr>\n",
       "      <th>4</th>\n",
       "      <td>4/10/2005 0:25</td>\n",
       "      <td>-1</td>\n",
       "    </tr>\n",
       "    <tr>\n",
       "      <th>5</th>\n",
       "      <td>4/10/2005 0:30</td>\n",
       "      <td>-1</td>\n",
       "    </tr>\n",
       "    <tr>\n",
       "      <th>6</th>\n",
       "      <td>4/10/2005 0:35</td>\n",
       "      <td>-1</td>\n",
       "    </tr>\n",
       "    <tr>\n",
       "      <th>7</th>\n",
       "      <td>4/10/2005 0:40</td>\n",
       "      <td>-1</td>\n",
       "    </tr>\n",
       "    <tr>\n",
       "      <th>8</th>\n",
       "      <td>4/10/2005 0:45</td>\n",
       "      <td>-1</td>\n",
       "    </tr>\n",
       "    <tr>\n",
       "      <th>9</th>\n",
       "      <td>4/10/2005 0:50</td>\n",
       "      <td>-1</td>\n",
       "    </tr>\n",
       "    <tr>\n",
       "      <th>10</th>\n",
       "      <td>4/10/2005 0:55</td>\n",
       "      <td>-1</td>\n",
       "    </tr>\n",
       "    <tr>\n",
       "      <th>11</th>\n",
       "      <td>4/10/2005 1:00</td>\n",
       "      <td>-1</td>\n",
       "    </tr>\n",
       "    <tr>\n",
       "      <th>12</th>\n",
       "      <td>4/10/2005 1:05</td>\n",
       "      <td>-1</td>\n",
       "    </tr>\n",
       "    <tr>\n",
       "      <th>13</th>\n",
       "      <td>4/10/2005 1:10</td>\n",
       "      <td>-1</td>\n",
       "    </tr>\n",
       "    <tr>\n",
       "      <th>14</th>\n",
       "      <td>4/10/2005 1:15</td>\n",
       "      <td>-1</td>\n",
       "    </tr>\n",
       "    <tr>\n",
       "      <th>15</th>\n",
       "      <td>4/10/2005 1:20</td>\n",
       "      <td>-1</td>\n",
       "    </tr>\n",
       "    <tr>\n",
       "      <th>16</th>\n",
       "      <td>4/10/2005 1:25</td>\n",
       "      <td>-1</td>\n",
       "    </tr>\n",
       "    <tr>\n",
       "      <th>17</th>\n",
       "      <td>4/10/2005 1:30</td>\n",
       "      <td>-1</td>\n",
       "    </tr>\n",
       "    <tr>\n",
       "      <th>18</th>\n",
       "      <td>4/10/2005 1:35</td>\n",
       "      <td>-1</td>\n",
       "    </tr>\n",
       "    <tr>\n",
       "      <th>19</th>\n",
       "      <td>4/10/2005 1:40</td>\n",
       "      <td>-1</td>\n",
       "    </tr>\n",
       "    <tr>\n",
       "      <th>20</th>\n",
       "      <td>4/10/2005 1:45</td>\n",
       "      <td>-1</td>\n",
       "    </tr>\n",
       "    <tr>\n",
       "      <th>21</th>\n",
       "      <td>4/10/2005 1:50</td>\n",
       "      <td>-1</td>\n",
       "    </tr>\n",
       "    <tr>\n",
       "      <th>22</th>\n",
       "      <td>4/10/2005 1:55</td>\n",
       "      <td>-1</td>\n",
       "    </tr>\n",
       "    <tr>\n",
       "      <th>23</th>\n",
       "      <td>4/10/2005 2:00</td>\n",
       "      <td>-1</td>\n",
       "    </tr>\n",
       "    <tr>\n",
       "      <th>24</th>\n",
       "      <td>4/10/2005 2:05</td>\n",
       "      <td>-1</td>\n",
       "    </tr>\n",
       "    <tr>\n",
       "      <th>25</th>\n",
       "      <td>4/10/2005 2:10</td>\n",
       "      <td>-1</td>\n",
       "    </tr>\n",
       "    <tr>\n",
       "      <th>26</th>\n",
       "      <td>4/10/2005 2:15</td>\n",
       "      <td>-1</td>\n",
       "    </tr>\n",
       "    <tr>\n",
       "      <th>27</th>\n",
       "      <td>4/10/2005 2:20</td>\n",
       "      <td>-1</td>\n",
       "    </tr>\n",
       "    <tr>\n",
       "      <th>28</th>\n",
       "      <td>4/10/2005 2:25</td>\n",
       "      <td>-1</td>\n",
       "    </tr>\n",
       "    <tr>\n",
       "      <th>29</th>\n",
       "      <td>4/10/2005 2:30</td>\n",
       "      <td>-1</td>\n",
       "    </tr>\n",
       "    <tr>\n",
       "      <th>30</th>\n",
       "      <td>4/10/2005 2:35</td>\n",
       "      <td>-1</td>\n",
       "    </tr>\n",
       "    <tr>\n",
       "      <th>31</th>\n",
       "      <td>4/10/2005 2:40</td>\n",
       "      <td>-1</td>\n",
       "    </tr>\n",
       "    <tr>\n",
       "      <th>32</th>\n",
       "      <td>4/10/2005 2:45</td>\n",
       "      <td>-1</td>\n",
       "    </tr>\n",
       "    <tr>\n",
       "      <th>33</th>\n",
       "      <td>4/10/2005 2:50</td>\n",
       "      <td>-1</td>\n",
       "    </tr>\n",
       "    <tr>\n",
       "      <th>34</th>\n",
       "      <td>4/10/2005 2:55</td>\n",
       "      <td>-1</td>\n",
       "    </tr>\n",
       "    <tr>\n",
       "      <th>35</th>\n",
       "      <td>4/10/2005 3:00</td>\n",
       "      <td>-1</td>\n",
       "    </tr>\n",
       "    <tr>\n",
       "      <th>36</th>\n",
       "      <td>4/10/2005 3:05</td>\n",
       "      <td>-1</td>\n",
       "    </tr>\n",
       "    <tr>\n",
       "      <th>37</th>\n",
       "      <td>4/10/2005 3:10</td>\n",
       "      <td>-1</td>\n",
       "    </tr>\n",
       "    <tr>\n",
       "      <th>38</th>\n",
       "      <td>4/10/2005 3:15</td>\n",
       "      <td>-1</td>\n",
       "    </tr>\n",
       "    <tr>\n",
       "      <th>39</th>\n",
       "      <td>4/10/2005 3:20</td>\n",
       "      <td>-1</td>\n",
       "    </tr>\n",
       "    <tr>\n",
       "      <th>40</th>\n",
       "      <td>4/10/2005 3:25</td>\n",
       "      <td>-1</td>\n",
       "    </tr>\n",
       "    <tr>\n",
       "      <th>41</th>\n",
       "      <td>4/10/2005 3:30</td>\n",
       "      <td>-1</td>\n",
       "    </tr>\n",
       "    <tr>\n",
       "      <th>42</th>\n",
       "      <td>4/10/2005 3:35</td>\n",
       "      <td>-1</td>\n",
       "    </tr>\n",
       "    <tr>\n",
       "      <th>43</th>\n",
       "      <td>4/10/2005 3:40</td>\n",
       "      <td>-1</td>\n",
       "    </tr>\n",
       "    <tr>\n",
       "      <th>44</th>\n",
       "      <td>4/10/2005 3:45</td>\n",
       "      <td>-1</td>\n",
       "    </tr>\n",
       "    <tr>\n",
       "      <th>45</th>\n",
       "      <td>4/10/2005 3:50</td>\n",
       "      <td>-1</td>\n",
       "    </tr>\n",
       "    <tr>\n",
       "      <th>46</th>\n",
       "      <td>4/10/2005 3:55</td>\n",
       "      <td>-1</td>\n",
       "    </tr>\n",
       "    <tr>\n",
       "      <th>47</th>\n",
       "      <td>4/10/2005 4:00</td>\n",
       "      <td>-1</td>\n",
       "    </tr>\n",
       "    <tr>\n",
       "      <th>48</th>\n",
       "      <td>4/10/2005 4:05</td>\n",
       "      <td>-1</td>\n",
       "    </tr>\n",
       "    <tr>\n",
       "      <th>49</th>\n",
       "      <td>4/10/2005 4:10</td>\n",
       "      <td>-1</td>\n",
       "    </tr>\n",
       "    <tr>\n",
       "      <th>50</th>\n",
       "      <td>4/10/2005 4:15</td>\n",
       "      <td>-1</td>\n",
       "    </tr>\n",
       "    <tr>\n",
       "      <th>51</th>\n",
       "      <td>4/10/2005 4:20</td>\n",
       "      <td>-1</td>\n",
       "    </tr>\n",
       "    <tr>\n",
       "      <th>52</th>\n",
       "      <td>4/10/2005 4:25</td>\n",
       "      <td>-1</td>\n",
       "    </tr>\n",
       "    <tr>\n",
       "      <th>53</th>\n",
       "      <td>4/10/2005 4:30</td>\n",
       "      <td>-1</td>\n",
       "    </tr>\n",
       "    <tr>\n",
       "      <th>54</th>\n",
       "      <td>4/10/2005 4:35</td>\n",
       "      <td>-1</td>\n",
       "    </tr>\n",
       "    <tr>\n",
       "      <th>55</th>\n",
       "      <td>4/10/2005 4:40</td>\n",
       "      <td>-1</td>\n",
       "    </tr>\n",
       "    <tr>\n",
       "      <th>56</th>\n",
       "      <td>4/10/2005 4:45</td>\n",
       "      <td>-1</td>\n",
       "    </tr>\n",
       "    <tr>\n",
       "      <th>57</th>\n",
       "      <td>4/10/2005 4:50</td>\n",
       "      <td>-1</td>\n",
       "    </tr>\n",
       "    <tr>\n",
       "      <th>58</th>\n",
       "      <td>4/10/2005 4:55</td>\n",
       "      <td>-1</td>\n",
       "    </tr>\n",
       "    <tr>\n",
       "      <th>59</th>\n",
       "      <td>4/10/2005 5:00</td>\n",
       "      <td>-1</td>\n",
       "    </tr>\n",
       "  </tbody>\n",
       "</table>\n",
       "</div>"
      ],
      "text/plain": [
       "    4/10/2005 0:00  -1\n",
       "0   4/10/2005 0:05  -1\n",
       "1   4/10/2005 0:10  -1\n",
       "2   4/10/2005 0:15  -1\n",
       "3   4/10/2005 0:20  -1\n",
       "4   4/10/2005 0:25  -1\n",
       "5   4/10/2005 0:30  -1\n",
       "6   4/10/2005 0:35  -1\n",
       "7   4/10/2005 0:40  -1\n",
       "8   4/10/2005 0:45  -1\n",
       "9   4/10/2005 0:50  -1\n",
       "10  4/10/2005 0:55  -1\n",
       "11  4/10/2005 1:00  -1\n",
       "12  4/10/2005 1:05  -1\n",
       "13  4/10/2005 1:10  -1\n",
       "14  4/10/2005 1:15  -1\n",
       "15  4/10/2005 1:20  -1\n",
       "16  4/10/2005 1:25  -1\n",
       "17  4/10/2005 1:30  -1\n",
       "18  4/10/2005 1:35  -1\n",
       "19  4/10/2005 1:40  -1\n",
       "20  4/10/2005 1:45  -1\n",
       "21  4/10/2005 1:50  -1\n",
       "22  4/10/2005 1:55  -1\n",
       "23  4/10/2005 2:00  -1\n",
       "24  4/10/2005 2:05  -1\n",
       "25  4/10/2005 2:10  -1\n",
       "26  4/10/2005 2:15  -1\n",
       "27  4/10/2005 2:20  -1\n",
       "28  4/10/2005 2:25  -1\n",
       "29  4/10/2005 2:30  -1\n",
       "30  4/10/2005 2:35  -1\n",
       "31  4/10/2005 2:40  -1\n",
       "32  4/10/2005 2:45  -1\n",
       "33  4/10/2005 2:50  -1\n",
       "34  4/10/2005 2:55  -1\n",
       "35  4/10/2005 3:00  -1\n",
       "36  4/10/2005 3:05  -1\n",
       "37  4/10/2005 3:10  -1\n",
       "38  4/10/2005 3:15  -1\n",
       "39  4/10/2005 3:20  -1\n",
       "40  4/10/2005 3:25  -1\n",
       "41  4/10/2005 3:30  -1\n",
       "42  4/10/2005 3:35  -1\n",
       "43  4/10/2005 3:40  -1\n",
       "44  4/10/2005 3:45  -1\n",
       "45  4/10/2005 3:50  -1\n",
       "46  4/10/2005 3:55  -1\n",
       "47  4/10/2005 4:00  -1\n",
       "48  4/10/2005 4:05  -1\n",
       "49  4/10/2005 4:10  -1\n",
       "50  4/10/2005 4:15  -1\n",
       "51  4/10/2005 4:20  -1\n",
       "52  4/10/2005 4:25  -1\n",
       "53  4/10/2005 4:30  -1\n",
       "54  4/10/2005 4:35  -1\n",
       "55  4/10/2005 4:40  -1\n",
       "56  4/10/2005 4:45  -1\n",
       "57  4/10/2005 4:50  -1\n",
       "58  4/10/2005 4:55  -1\n",
       "59  4/10/2005 5:00  -1"
      ]
     },
     "execution_count": 3,
     "metadata": {},
     "output_type": "execute_result"
    }
   ],
   "source": [
    "data.head(60)"
   ]
  },
  {
   "cell_type": "code",
   "execution_count": 4,
   "metadata": {},
   "outputs": [
    {
     "data": {
      "text/plain": [
       "(50399, 2)"
      ]
     },
     "execution_count": 4,
     "metadata": {},
     "output_type": "execute_result"
    }
   ],
   "source": [
    "data.shape"
   ]
  },
  {
   "cell_type": "markdown",
   "metadata": {},
   "source": [
    "### Renaming column '-1' as Count, as given in the metadata "
   ]
  },
  {
   "cell_type": "code",
   "execution_count": 5,
   "metadata": {},
   "outputs": [
    {
     "data": {
      "text/html": [
       "<div>\n",
       "<style scoped>\n",
       "    .dataframe tbody tr th:only-of-type {\n",
       "        vertical-align: middle;\n",
       "    }\n",
       "\n",
       "    .dataframe tbody tr th {\n",
       "        vertical-align: top;\n",
       "    }\n",
       "\n",
       "    .dataframe thead th {\n",
       "        text-align: right;\n",
       "    }\n",
       "</style>\n",
       "<table border=\"1\" class=\"dataframe\">\n",
       "  <thead>\n",
       "    <tr style=\"text-align: right;\">\n",
       "      <th></th>\n",
       "      <th>4/10/2005 0:00</th>\n",
       "      <th>Count</th>\n",
       "    </tr>\n",
       "  </thead>\n",
       "  <tbody>\n",
       "    <tr>\n",
       "      <th>0</th>\n",
       "      <td>4/10/2005 0:05</td>\n",
       "      <td>-1</td>\n",
       "    </tr>\n",
       "    <tr>\n",
       "      <th>1</th>\n",
       "      <td>4/10/2005 0:10</td>\n",
       "      <td>-1</td>\n",
       "    </tr>\n",
       "    <tr>\n",
       "      <th>2</th>\n",
       "      <td>4/10/2005 0:15</td>\n",
       "      <td>-1</td>\n",
       "    </tr>\n",
       "    <tr>\n",
       "      <th>3</th>\n",
       "      <td>4/10/2005 0:20</td>\n",
       "      <td>-1</td>\n",
       "    </tr>\n",
       "    <tr>\n",
       "      <th>4</th>\n",
       "      <td>4/10/2005 0:25</td>\n",
       "      <td>-1</td>\n",
       "    </tr>\n",
       "  </tbody>\n",
       "</table>\n",
       "</div>"
      ],
      "text/plain": [
       "   4/10/2005 0:00  Count\n",
       "0  4/10/2005 0:05     -1\n",
       "1  4/10/2005 0:10     -1\n",
       "2  4/10/2005 0:15     -1\n",
       "3  4/10/2005 0:20     -1\n",
       "4  4/10/2005 0:25     -1"
      ]
     },
     "execution_count": 5,
     "metadata": {},
     "output_type": "execute_result"
    }
   ],
   "source": [
    "data = data.rename(columns={'-1':'Count'})\n",
    "data.head()"
   ]
  },
  {
   "cell_type": "markdown",
   "metadata": {},
   "source": [
    "The data is supposed to have 3 columns and not 2. It appears the 1st and 2nd columns have been combined into one.\n",
    "They need to be seperated."
   ]
  },
  {
   "cell_type": "markdown",
   "metadata": {},
   "source": [
    "### Splitting 1st column into Date and Time"
   ]
  },
  {
   "cell_type": "code",
   "execution_count": 6,
   "metadata": {},
   "outputs": [
    {
     "data": {
      "text/html": [
       "<div>\n",
       "<style scoped>\n",
       "    .dataframe tbody tr th:only-of-type {\n",
       "        vertical-align: middle;\n",
       "    }\n",
       "\n",
       "    .dataframe tbody tr th {\n",
       "        vertical-align: top;\n",
       "    }\n",
       "\n",
       "    .dataframe thead th {\n",
       "        text-align: right;\n",
       "    }\n",
       "</style>\n",
       "<table border=\"1\" class=\"dataframe\">\n",
       "  <thead>\n",
       "    <tr style=\"text-align: right;\">\n",
       "      <th></th>\n",
       "      <th>4/10/2005 0:000</th>\n",
       "      <th>4/10/2005 0:001</th>\n",
       "    </tr>\n",
       "  </thead>\n",
       "  <tbody>\n",
       "    <tr>\n",
       "      <th>0</th>\n",
       "      <td>4/10/2005</td>\n",
       "      <td>0:05</td>\n",
       "    </tr>\n",
       "    <tr>\n",
       "      <th>1</th>\n",
       "      <td>4/10/2005</td>\n",
       "      <td>0:10</td>\n",
       "    </tr>\n",
       "    <tr>\n",
       "      <th>2</th>\n",
       "      <td>4/10/2005</td>\n",
       "      <td>0:15</td>\n",
       "    </tr>\n",
       "    <tr>\n",
       "      <th>3</th>\n",
       "      <td>4/10/2005</td>\n",
       "      <td>0:20</td>\n",
       "    </tr>\n",
       "    <tr>\n",
       "      <th>4</th>\n",
       "      <td>4/10/2005</td>\n",
       "      <td>0:25</td>\n",
       "    </tr>\n",
       "  </tbody>\n",
       "</table>\n",
       "</div>"
      ],
      "text/plain": [
       "  4/10/2005 0:000 4/10/2005 0:001\n",
       "0       4/10/2005            0:05\n",
       "1       4/10/2005            0:10\n",
       "2       4/10/2005            0:15\n",
       "3       4/10/2005            0:20\n",
       "4       4/10/2005            0:25"
      ]
     },
     "execution_count": 6,
     "metadata": {},
     "output_type": "execute_result"
    }
   ],
   "source": [
    "time = data['4/10/2005 0:00'].str.split(expand=True).add_prefix('4/10/2005 0:00')\n",
    "time.head()"
   ]
  },
  {
   "cell_type": "code",
   "execution_count": 7,
   "metadata": {},
   "outputs": [
    {
     "data": {
      "text/html": [
       "<div>\n",
       "<style scoped>\n",
       "    .dataframe tbody tr th:only-of-type {\n",
       "        vertical-align: middle;\n",
       "    }\n",
       "\n",
       "    .dataframe tbody tr th {\n",
       "        vertical-align: top;\n",
       "    }\n",
       "\n",
       "    .dataframe thead th {\n",
       "        text-align: right;\n",
       "    }\n",
       "</style>\n",
       "<table border=\"1\" class=\"dataframe\">\n",
       "  <thead>\n",
       "    <tr style=\"text-align: right;\">\n",
       "      <th></th>\n",
       "      <th>Date</th>\n",
       "      <th>Time</th>\n",
       "    </tr>\n",
       "  </thead>\n",
       "  <tbody>\n",
       "    <tr>\n",
       "      <th>0</th>\n",
       "      <td>4/10/2005</td>\n",
       "      <td>0:05</td>\n",
       "    </tr>\n",
       "    <tr>\n",
       "      <th>1</th>\n",
       "      <td>4/10/2005</td>\n",
       "      <td>0:10</td>\n",
       "    </tr>\n",
       "    <tr>\n",
       "      <th>2</th>\n",
       "      <td>4/10/2005</td>\n",
       "      <td>0:15</td>\n",
       "    </tr>\n",
       "    <tr>\n",
       "      <th>3</th>\n",
       "      <td>4/10/2005</td>\n",
       "      <td>0:20</td>\n",
       "    </tr>\n",
       "    <tr>\n",
       "      <th>4</th>\n",
       "      <td>4/10/2005</td>\n",
       "      <td>0:25</td>\n",
       "    </tr>\n",
       "  </tbody>\n",
       "</table>\n",
       "</div>"
      ],
      "text/plain": [
       "        Date  Time\n",
       "0  4/10/2005  0:05\n",
       "1  4/10/2005  0:10\n",
       "2  4/10/2005  0:15\n",
       "3  4/10/2005  0:20\n",
       "4  4/10/2005  0:25"
      ]
     },
     "execution_count": 7,
     "metadata": {},
     "output_type": "execute_result"
    }
   ],
   "source": [
    "#Renaming columns in time dataframe\n",
    "time = time.rename(columns={'4/10/2005 0:000':'Date', '4/10/2005 0:001':'Time'})\n",
    "time.head()"
   ]
  },
  {
   "cell_type": "code",
   "execution_count": 8,
   "metadata": {},
   "outputs": [
    {
     "data": {
      "text/html": [
       "<div>\n",
       "<style scoped>\n",
       "    .dataframe tbody tr th:only-of-type {\n",
       "        vertical-align: middle;\n",
       "    }\n",
       "\n",
       "    .dataframe tbody tr th {\n",
       "        vertical-align: top;\n",
       "    }\n",
       "\n",
       "    .dataframe thead th {\n",
       "        text-align: right;\n",
       "    }\n",
       "</style>\n",
       "<table border=\"1\" class=\"dataframe\">\n",
       "  <thead>\n",
       "    <tr style=\"text-align: right;\">\n",
       "      <th></th>\n",
       "      <th>Date</th>\n",
       "      <th>Time</th>\n",
       "      <th>Count</th>\n",
       "    </tr>\n",
       "  </thead>\n",
       "  <tbody>\n",
       "    <tr>\n",
       "      <th>0</th>\n",
       "      <td>4/10/2005</td>\n",
       "      <td>0:05</td>\n",
       "      <td>-1</td>\n",
       "    </tr>\n",
       "    <tr>\n",
       "      <th>1</th>\n",
       "      <td>4/10/2005</td>\n",
       "      <td>0:10</td>\n",
       "      <td>-1</td>\n",
       "    </tr>\n",
       "    <tr>\n",
       "      <th>2</th>\n",
       "      <td>4/10/2005</td>\n",
       "      <td>0:15</td>\n",
       "      <td>-1</td>\n",
       "    </tr>\n",
       "    <tr>\n",
       "      <th>3</th>\n",
       "      <td>4/10/2005</td>\n",
       "      <td>0:20</td>\n",
       "      <td>-1</td>\n",
       "    </tr>\n",
       "    <tr>\n",
       "      <th>4</th>\n",
       "      <td>4/10/2005</td>\n",
       "      <td>0:25</td>\n",
       "      <td>-1</td>\n",
       "    </tr>\n",
       "  </tbody>\n",
       "</table>\n",
       "</div>"
      ],
      "text/plain": [
       "        Date  Time  Count\n",
       "0  4/10/2005  0:05     -1\n",
       "1  4/10/2005  0:10     -1\n",
       "2  4/10/2005  0:15     -1\n",
       "3  4/10/2005  0:20     -1\n",
       "4  4/10/2005  0:25     -1"
      ]
     },
     "execution_count": 8,
     "metadata": {},
     "output_type": "execute_result"
    }
   ],
   "source": [
    "df = pd.concat([time, data], axis=1)\n",
    "df = df.drop(['4/10/2005 0:00'], axis=1)\n",
    "df.head()"
   ]
  },
  {
   "cell_type": "markdown",
   "metadata": {},
   "source": [
    "### Converting 'Time' column into numerical attribute"
   ]
  },
  {
   "cell_type": "code",
   "execution_count": 9,
   "metadata": {},
   "outputs": [
    {
     "name": "stdout",
     "output_type": "stream",
     "text": [
      "<class 'pandas.core.frame.DataFrame'>\n",
      "RangeIndex: 50399 entries, 0 to 50398\n",
      "Data columns (total 1 columns):\n",
      "Time    50399 non-null object\n",
      "dtypes: object(1)\n",
      "memory usage: 393.8+ KB\n"
     ]
    }
   ],
   "source": [
    "Time=df['Time']\n",
    "Time=pd.DataFrame(Time)\n",
    "Time.info()"
   ]
  },
  {
   "cell_type": "markdown",
   "metadata": {},
   "source": [
    "The 'Time' column in the df dataframe above is suposed numerical attribute with an inreament of 5 min for every observation, and not an object as indicated above. It has to be converted to a numerical "
   ]
  },
  {
   "cell_type": "code",
   "execution_count": 10,
   "metadata": {},
   "outputs": [
    {
     "name": "stdout",
     "output_type": "stream",
     "text": [
      "Done\n"
     ]
    },
    {
     "data": {
      "text/html": [
       "<div>\n",
       "<style scoped>\n",
       "    .dataframe tbody tr th:only-of-type {\n",
       "        vertical-align: middle;\n",
       "    }\n",
       "\n",
       "    .dataframe tbody tr th {\n",
       "        vertical-align: top;\n",
       "    }\n",
       "\n",
       "    .dataframe thead th {\n",
       "        text-align: right;\n",
       "    }\n",
       "</style>\n",
       "<table border=\"1\" class=\"dataframe\">\n",
       "  <thead>\n",
       "    <tr style=\"text-align: right;\">\n",
       "      <th></th>\n",
       "      <th>0</th>\n",
       "    </tr>\n",
       "  </thead>\n",
       "  <tbody>\n",
       "    <tr>\n",
       "      <th>0</th>\n",
       "      <td>5</td>\n",
       "    </tr>\n",
       "    <tr>\n",
       "      <th>1</th>\n",
       "      <td>10</td>\n",
       "    </tr>\n",
       "    <tr>\n",
       "      <th>2</th>\n",
       "      <td>15</td>\n",
       "    </tr>\n",
       "  </tbody>\n",
       "</table>\n",
       "</div>"
      ],
      "text/plain": [
       "    0\n",
       "0   5\n",
       "1  10\n",
       "2  15"
      ]
     },
     "execution_count": 10,
     "metadata": {},
     "output_type": "execute_result"
    }
   ],
   "source": [
    "E=[]\n",
    "count=0\n",
    "for i in df['Time']:\n",
    "    count+=5\n",
    "    E.append(count)\n",
    "print('Done')\n",
    "Time_new= pd.DataFrame(E)\n",
    "Time_new.head(3)"
   ]
  },
  {
   "cell_type": "code",
   "execution_count": 11,
   "metadata": {},
   "outputs": [],
   "source": [
    "Time_new.columns=['Time(min)']"
   ]
  },
  {
   "cell_type": "code",
   "execution_count": 12,
   "metadata": {},
   "outputs": [
    {
     "data": {
      "text/html": [
       "<div>\n",
       "<style scoped>\n",
       "    .dataframe tbody tr th:only-of-type {\n",
       "        vertical-align: middle;\n",
       "    }\n",
       "\n",
       "    .dataframe tbody tr th {\n",
       "        vertical-align: top;\n",
       "    }\n",
       "\n",
       "    .dataframe thead th {\n",
       "        text-align: right;\n",
       "    }\n",
       "</style>\n",
       "<table border=\"1\" class=\"dataframe\">\n",
       "  <thead>\n",
       "    <tr style=\"text-align: right;\">\n",
       "      <th></th>\n",
       "      <th>Date</th>\n",
       "      <th>Time</th>\n",
       "      <th>Count</th>\n",
       "      <th>Time(min)</th>\n",
       "    </tr>\n",
       "  </thead>\n",
       "  <tbody>\n",
       "    <tr>\n",
       "      <th>0</th>\n",
       "      <td>4/10/2005</td>\n",
       "      <td>0:05</td>\n",
       "      <td>-1</td>\n",
       "      <td>5</td>\n",
       "    </tr>\n",
       "    <tr>\n",
       "      <th>1</th>\n",
       "      <td>4/10/2005</td>\n",
       "      <td>0:10</td>\n",
       "      <td>-1</td>\n",
       "      <td>10</td>\n",
       "    </tr>\n",
       "    <tr>\n",
       "      <th>2</th>\n",
       "      <td>4/10/2005</td>\n",
       "      <td>0:15</td>\n",
       "      <td>-1</td>\n",
       "      <td>15</td>\n",
       "    </tr>\n",
       "  </tbody>\n",
       "</table>\n",
       "</div>"
      ],
      "text/plain": [
       "        Date  Time  Count  Time(min)\n",
       "0  4/10/2005  0:05     -1          5\n",
       "1  4/10/2005  0:10     -1         10\n",
       "2  4/10/2005  0:15     -1         15"
      ]
     },
     "execution_count": 12,
     "metadata": {},
     "output_type": "execute_result"
    }
   ],
   "source": [
    "df_new = pd.concat([df, Time_new], axis=1)\n",
    "df_new.head(3)"
   ]
  },
  {
   "cell_type": "code",
   "execution_count": 13,
   "metadata": {},
   "outputs": [
    {
     "data": {
      "text/html": [
       "<div>\n",
       "<style scoped>\n",
       "    .dataframe tbody tr th:only-of-type {\n",
       "        vertical-align: middle;\n",
       "    }\n",
       "\n",
       "    .dataframe tbody tr th {\n",
       "        vertical-align: top;\n",
       "    }\n",
       "\n",
       "    .dataframe thead th {\n",
       "        text-align: right;\n",
       "    }\n",
       "</style>\n",
       "<table border=\"1\" class=\"dataframe\">\n",
       "  <thead>\n",
       "    <tr style=\"text-align: right;\">\n",
       "      <th></th>\n",
       "      <th>Date</th>\n",
       "      <th>Count</th>\n",
       "      <th>Time(min)</th>\n",
       "    </tr>\n",
       "  </thead>\n",
       "  <tbody>\n",
       "    <tr>\n",
       "      <th>0</th>\n",
       "      <td>4/10/2005</td>\n",
       "      <td>-1</td>\n",
       "      <td>5</td>\n",
       "    </tr>\n",
       "    <tr>\n",
       "      <th>1</th>\n",
       "      <td>4/10/2005</td>\n",
       "      <td>-1</td>\n",
       "      <td>10</td>\n",
       "    </tr>\n",
       "    <tr>\n",
       "      <th>2</th>\n",
       "      <td>4/10/2005</td>\n",
       "      <td>-1</td>\n",
       "      <td>15</td>\n",
       "    </tr>\n",
       "    <tr>\n",
       "      <th>3</th>\n",
       "      <td>4/10/2005</td>\n",
       "      <td>-1</td>\n",
       "      <td>20</td>\n",
       "    </tr>\n",
       "    <tr>\n",
       "      <th>4</th>\n",
       "      <td>4/10/2005</td>\n",
       "      <td>-1</td>\n",
       "      <td>25</td>\n",
       "    </tr>\n",
       "  </tbody>\n",
       "</table>\n",
       "</div>"
      ],
      "text/plain": [
       "        Date  Count  Time(min)\n",
       "0  4/10/2005     -1          5\n",
       "1  4/10/2005     -1         10\n",
       "2  4/10/2005     -1         15\n",
       "3  4/10/2005     -1         20\n",
       "4  4/10/2005     -1         25"
      ]
     },
     "execution_count": 13,
     "metadata": {},
     "output_type": "execute_result"
    }
   ],
   "source": [
    "df_new=df_new.drop(['Time'], axis=1)\n",
    "df_new.head()"
   ]
  },
  {
   "cell_type": "code",
   "execution_count": 14,
   "metadata": {},
   "outputs": [
    {
     "data": {
      "text/html": [
       "<div>\n",
       "<style scoped>\n",
       "    .dataframe tbody tr th:only-of-type {\n",
       "        vertical-align: middle;\n",
       "    }\n",
       "\n",
       "    .dataframe tbody tr th {\n",
       "        vertical-align: top;\n",
       "    }\n",
       "\n",
       "    .dataframe thead th {\n",
       "        text-align: right;\n",
       "    }\n",
       "</style>\n",
       "<table border=\"1\" class=\"dataframe\">\n",
       "  <thead>\n",
       "    <tr style=\"text-align: right;\">\n",
       "      <th></th>\n",
       "      <th>Date</th>\n",
       "      <th>Count</th>\n",
       "      <th>Time(min)</th>\n",
       "    </tr>\n",
       "  </thead>\n",
       "  <tbody>\n",
       "    <tr>\n",
       "      <th>50394</th>\n",
       "      <td>10/1/2005</td>\n",
       "      <td>-1</td>\n",
       "      <td>251975</td>\n",
       "    </tr>\n",
       "    <tr>\n",
       "      <th>50395</th>\n",
       "      <td>10/1/2005</td>\n",
       "      <td>-1</td>\n",
       "      <td>251980</td>\n",
       "    </tr>\n",
       "    <tr>\n",
       "      <th>50396</th>\n",
       "      <td>10/1/2005</td>\n",
       "      <td>-1</td>\n",
       "      <td>251985</td>\n",
       "    </tr>\n",
       "    <tr>\n",
       "      <th>50397</th>\n",
       "      <td>10/1/2005</td>\n",
       "      <td>-1</td>\n",
       "      <td>251990</td>\n",
       "    </tr>\n",
       "    <tr>\n",
       "      <th>50398</th>\n",
       "      <td>10/1/2005</td>\n",
       "      <td>-1</td>\n",
       "      <td>251995</td>\n",
       "    </tr>\n",
       "  </tbody>\n",
       "</table>\n",
       "</div>"
      ],
      "text/plain": [
       "            Date  Count  Time(min)\n",
       "50394  10/1/2005     -1     251975\n",
       "50395  10/1/2005     -1     251980\n",
       "50396  10/1/2005     -1     251985\n",
       "50397  10/1/2005     -1     251990\n",
       "50398  10/1/2005     -1     251995"
      ]
     },
     "execution_count": 14,
     "metadata": {},
     "output_type": "execute_result"
    }
   ],
   "source": [
    "df_new.tail()"
   ]
  },
  {
   "cell_type": "markdown",
   "metadata": {},
   "source": [
    "### Finding Missen values, or observations"
   ]
  },
  {
   "cell_type": "code",
   "execution_count": 15,
   "metadata": {},
   "outputs": [
    {
     "data": {
      "text/plain": [
       "False"
      ]
     },
     "execution_count": 15,
     "metadata": {},
     "output_type": "execute_result"
    }
   ],
   "source": [
    "df_new.isnull().values.any()"
   ]
  },
  {
   "cell_type": "markdown",
   "metadata": {},
   "source": [
    "Data has no missing values "
   ]
  },
  {
   "cell_type": "markdown",
   "metadata": {},
   "source": [
    "# Exploratory Data Analysis"
   ]
  },
  {
   "cell_type": "code",
   "execution_count": 16,
   "metadata": {},
   "outputs": [
    {
     "data": {
      "image/png": "[encoded data removed]",
      "text/plain": [
       "<Figure size 576x648 with 1 Axes>"
      ]
     },
     "metadata": {
      "needs_background": "light"
     },
     "output_type": "display_data"
    }
   ],
   "source": [
    "fig=df_new['Count'].hist(bins=20,\n",
    "                 color='green',\n",
    "                 edgecolor='black', linewidth=1.0,\n",
    "                 xlabelsize=10, ylabelsize=10,\n",
    "                 xrot=45, yrot=0,\n",
    "                 figsize=(8,9),\n",
    "                 grid=False)\n",
    "\n",
    "plt.tight_layout(rect=(0, 0, 2, 1.5))"
   ]
  },
  {
   "cell_type": "code",
   "execution_count": 17,
   "metadata": {},
   "outputs": [
    {
     "data": {
      "image/png": "[encoded data removed]",
      "text/plain": [
       "<Figure size 720x720 with 3 Axes>"
      ]
     },
     "metadata": {
      "needs_background": "light"
     },
     "output_type": "display_data"
    }
   ],
   "source": [
    "jp = sns.jointplot(data=df_new,\n",
    "                   x='Time(min)', \n",
    "                   y='Count', color='green',\n",
    "                   kind='reg', # <==Add regression and kernel density fits\n",
    "                   space=0, height=10, ratio=4)"
   ]
  },
  {
   "cell_type": "code",
   "execution_count": 18,
   "metadata": {},
   "outputs": [
    {
     "data": {
      "image/png": "[encoded data removed]",
      "text/plain": [
       "<Figure size 432x288 with 1 Axes>"
      ]
     },
     "metadata": {
      "needs_background": "light"
     },
     "output_type": "display_data"
    }
   ],
   "source": [
    "Time_boxplot= df_new.boxplot(column= ['Time(min)'])"
   ]
  },
  {
   "cell_type": "code",
   "execution_count": 19,
   "metadata": {},
   "outputs": [
    {
     "data": {
      "image/png": "[encoded data removed]",
      "text/plain": [
       "<Figure size 432x288 with 1 Axes>"
      ]
     },
     "metadata": {
      "needs_background": "light"
     },
     "output_type": "display_data"
    }
   ],
   "source": [
    "Count_boxplot= df_new.boxplot(column= ['Count'])"
   ]
  },
  {
   "cell_type": "code",
   "execution_count": 20,
   "metadata": {},
   "outputs": [],
   "source": [
    "# Extract extract the label from datafram\n",
    "\n",
    "Y = df_new['Count']\n",
    "features = df_new.drop(['Count'], axis=1)"
   ]
  },
  {
   "cell_type": "code",
   "execution_count": 21,
   "metadata": {},
   "outputs": [],
   "source": [
    "# Split the data set into training and test set\n",
    "\n",
    "from sklearn.model_selection import train_test_split\n",
    "X_train, X_test, y_train, y_test = train_test_split(features, Y, test_size=0.30, shuffle=True, random_state=42)"
   ]
  },
  {
   "cell_type": "code",
   "execution_count": 22,
   "metadata": {},
   "outputs": [],
   "source": [
    "# Onehot encoding the categorical variable\n",
    "X_train_final = pd.get_dummies(X_train)\n",
    "X_test_final = pd.get_dummies(X_test)\n",
    "\n",
    "\n",
    "#Feature Scaling\n",
    "from sklearn import preprocessing\n",
    "scaler = preprocessing.StandardScaler()\n",
    "X_train_scaled = scaler.fit_transform(X_train_final)\n",
    "X_test_scaled = scaler.fit_transform(X_test_final)\n",
    "\n",
    "#These must be converted to array \n",
    "y_train = np.array(y_train)\n",
    "y_test = np.array(y_test)"
   ]
  },
  {
   "cell_type": "markdown",
   "metadata": {},
   "source": [
    "# Model Training\n"
   ]
  },
  {
   "cell_type": "markdown",
   "metadata": {},
   "source": [
    "### Linear Regression "
   ]
  },
  {
   "cell_type": "code",
   "execution_count": 23,
   "metadata": {},
   "outputs": [
    {
     "name": "stdout",
     "output_type": "stream",
     "text": [
      "Linear Regressor Performance:\n",
      "Mean absolute error =  9.56\n",
      "Mean squared error= 134.24\n",
      "Root mean squared error= 11.59\n",
      "Variance score= 0.29\n"
     ]
    }
   ],
   "source": [
    "from sklearn.linear_model import LinearRegression\n",
    "L_reg = LinearRegression()\n",
    "L_reg.fit(X_train_scaled, y_train)\n",
    "y_pred = L_reg.predict(X_train_scaled) \n",
    "\n",
    "#Compute performance metrics\n",
    "import sklearn.metrics as sm\n",
    "\n",
    "print('Linear Regressor Performance:')\n",
    "print('Mean absolute error = ', round(sm.mean_absolute_error( y_train, y_pred), 2))\n",
    "print('Mean squared error=', round(sm.mean_squared_error(y_train, y_pred), 2))\n",
    "print('Root mean squared error=', round(np.sqrt(sm.mean_squared_error(y_train, y_pred)), 2))\n",
    "print('Variance score=', round(sm.explained_variance_score(y_train, y_pred), 2))"
   ]
  },
  {
   "cell_type": "markdown",
   "metadata": {},
   "source": [
    "#### Linear Regression Model cross validation"
   ]
  },
  {
   "cell_type": "code",
   "execution_count": 24,
   "metadata": {},
   "outputs": [],
   "source": [
    "from sklearn.model_selection import cross_val_score"
   ]
  },
  {
   "cell_type": "markdown",
   "metadata": {},
   "source": [
    "### Decision Tree Regressor"
   ]
  },
  {
   "cell_type": "code",
   "execution_count": 25,
   "metadata": {},
   "outputs": [
    {
     "name": "stdout",
     "output_type": "stream",
     "text": [
      "Linear Regressor Performance:\n",
      "Mean absolute error =  0.0\n",
      "Mean squared error= 0.0\n",
      "Root mean squared error= 0.0\n",
      "Variance score= 1.0\n"
     ]
    }
   ],
   "source": [
    "from sklearn.tree import DecisionTreeRegressor\n",
    "DT_reg = DecisionTreeRegressor()\n",
    "DT_reg.fit(X_train_scaled, y_train)\n",
    "y_pred = DT_reg.predict(X_train_scaled)\n",
    "\n",
    "print('Linear Regressor Performance:')\n",
    "print('Mean absolute error = ', round(sm.mean_absolute_error( y_train, y_pred), 2))\n",
    "print('Mean squared error=', round(sm.mean_squared_error(y_train, y_pred), 2))\n",
    "print('Root mean squared error=', round(np.sqrt(sm.mean_squared_error(y_train, y_pred)), 2))\n",
    "print('Variance score=', round(sm.explained_variance_score(y_train, y_pred), 2))"
   ]
  },
  {
   "cell_type": "markdown",
   "metadata": {},
   "source": [
    "### Random Forest Regressor"
   ]
  },
  {
   "cell_type": "code",
   "execution_count": 26,
   "metadata": {},
   "outputs": [
    {
     "name": "stdout",
     "output_type": "stream",
     "text": [
      "Linear Regressor Performance:\n",
      "Mean absolute error =  1.66\n",
      "Mean squared error= 6.26\n",
      "Root mean squared error= 2.5\n",
      "Variance score= 0.97\n"
     ]
    }
   ],
   "source": [
    "from sklearn.ensemble import RandomForestRegressor\n",
    "FR_reg = RandomForestRegressor()\n",
    "FR_reg.fit(X_train_scaled, y_train)\n",
    "y_pred = FR_reg.predict(X_train_scaled)\n",
    "\n",
    "print('Linear Regressor Performance:')\n",
    "print('Mean absolute error = ', round(sm.mean_absolute_error( y_train, y_pred), 2))\n",
    "print('Mean squared error=', round(sm.mean_squared_error(y_train, y_pred), 2))\n",
    "print('Root mean squared error=', round(np.sqrt(sm.mean_squared_error(y_train, y_pred)), 2))\n",
    "print('Variance score=', round(sm.explained_variance_score(y_train, y_pred), 2))"
   ]
  },
  {
   "cell_type": "markdown",
   "metadata": {},
   "source": [
    "### Support Vector Machine Regressor"
   ]
  },
  {
   "cell_type": "code",
   "execution_count": 27,
   "metadata": {},
   "outputs": [
    {
     "name": "stdout",
     "output_type": "stream",
     "text": [
      "Linear Regressor Performance:\n",
      "Mean absolute error =  10.63\n",
      "Mean squared error= 169.83\n",
      "Root mean squared error= 13.03\n",
      "Variance score= 0.1\n"
     ]
    }
   ],
   "source": [
    "from sklearn.svm import SVR\n",
    "SV_reg = SVR(kernel='rbf')\n",
    "SV_reg.fit(X_train_scaled, y_train)\n",
    "y_pred = SV_reg.predict(X_train_scaled)\n",
    "\n",
    "print('Linear Regressor Performance:')\n",
    "print('Mean absolute error = ', round(sm.mean_absolute_error( y_train, y_pred), 2))\n",
    "print('Mean squared error=', round(sm.mean_squared_error(y_train, y_pred), 2))\n",
    "print('Root mean squared error=', round(np.sqrt(sm.mean_squared_error(y_train, y_pred)), 2))\n",
    "print('Variance score=', round(sm.explained_variance_score(y_train, y_pred), 2))"
   ]
  },
  {
   "cell_type": "markdown",
   "metadata": {},
   "source": [
    "### K-Nearest Neighbors(KNN)"
   ]
  },
  {
   "cell_type": "code",
   "execution_count": 28,
   "metadata": {},
   "outputs": [
    {
     "name": "stdout",
     "output_type": "stream",
     "text": [
      "Linear Regressor Performance:\n",
      "Mean absolute error =  3.24\n",
      "Mean squared error= 20.58\n",
      "Root mean squared error= 4.54\n",
      "Variance score= 0.89\n"
     ]
    }
   ],
   "source": [
    "from sklearn.neighbors import KNeighborsRegressor\n",
    "KNN_reg = KNeighborsRegressor()\n",
    "KNN_reg.fit(X_train_scaled, y_train)\n",
    "y_pred = KNN_reg.predict(X_train_scaled)\n",
    "\n",
    "print('Linear Regressor Performance:')\n",
    "print('Mean absolute error = ', round(sm.mean_absolute_error( y_train, y_pred), 2))\n",
    "print('Mean squared error=', round(sm.mean_squared_error(y_train, y_pred), 2))\n",
    "print('Root mean squared error=', round(np.sqrt(sm.mean_squared_error(y_train, y_pred)), 2))\n",
    "print('Variance score=', round(sm.explained_variance_score(y_train, y_pred), 2))"
   ]
  },
  {
   "cell_type": "markdown",
   "metadata": {},
   "source": [
    "# Model Evaluation "
   ]
  },
  {
   "cell_type": "markdown",
   "metadata": {},
   "source": [
    "### Evaluating the Performace of the Decision Tree Regressor by cross validation"
   ]
  },
  {
   "cell_type": "code",
   "execution_count": 31,
   "metadata": {},
   "outputs": [
    {
     "name": "stdout",
     "output_type": "stream",
     "text": [
      "Scores: [7.16518336 7.05943347 7.24815247 6.99777256 6.98124715 7.13584974\n",
      " 7.21752638 6.81921555 7.02808587 7.05336297]\n",
      "Mean: 7.0705829517918115\n",
      "Standard deviation: 0.12042713514216134\n"
     ]
    }
   ],
   "source": [
    "from sklearn.model_selection import cross_val_score\n",
    "scores = cross_val_score(DT_reg, X_train_scaled, y_train, scoring='neg_mean_squared_error', cv=10)\n",
    "DT_rmse_scores=np.sqrt(-scores)\n",
    "\n",
    "def display_scores(scores):\n",
    "    print('Scores:', scores)\n",
    "    print('Mean:', scores.mean())\n",
    "    print('Standard deviation:', scores.std())\n",
    "    \n",
    "    \n",
    "display_scores(DT_rmse_scores)"
   ]
  },
  {
   "cell_type": "markdown",
   "metadata": {},
   "source": [
    "### Evaluating the Performance of the Random Forest regressor by cross validation"
   ]
  },
  {
   "cell_type": "code",
   "execution_count": 32,
   "metadata": {},
   "outputs": [
    {
     "name": "stdout",
     "output_type": "stream",
     "text": [
      "Scores: [6.23647584 6.11322518 6.33616746 6.17341307 6.09730225 6.14060913\n",
      " 6.20260442 5.90942069 6.07018521 6.20408259]\n",
      "Mean: 6.148348584120687\n",
      "Standard deviation: 0.10808139705682508\n"
     ]
    }
   ],
   "source": [
    "from sklearn.model_selection import cross_val_score\n",
    "scores = cross_val_score(FR_reg, X_train_scaled, y_train, scoring='neg_mean_squared_error', cv=10)\n",
    "FR_rmse_scores=np.sqrt(-scores)\n",
    "\n",
    "def display_scores(scores):\n",
    "    print('Scores:', scores)\n",
    "    print('Mean:', scores.mean())\n",
    "    print('Standard deviation:', scores.std())\n",
    "    \n",
    "display_scores(FR_rmse_scores)"
   ]
  },
  {
   "cell_type": "markdown",
   "metadata": {},
   "source": [
    "# Model Selection "
   ]
  },
  {
   "cell_type": "code",
   "execution_count": 1,
   "metadata": {},
   "outputs": [],
   "source": [
    "#models =[FR_reg, DT_reg]\n",
    "#from sklearn.model_selection import cross_val_score\n",
    "#cv=10\n",
    "\n",
    "#cv_df = pd.DataFrame(index=range(cv * len(models)))\n",
    "\n",
    "#entries = []\n",
    "#for model in models:\n",
    "#  model_name = model.__class__.__name__\n",
    "#  accuracies = cross_val_score(model, X_train_scaled, y_train, scoring='neg_mean_squared_error', cv=cv)\n",
    "#  for fold_idx, accuracy in enumerate(accuracies):\n",
    "#    entries.append((model_name, fold_idx, accuracy))\n",
    "#cv_df = pd.DataFrame(entries, columns=['model_name', 'fold_idx', 'accuracy'])\n",
    "\n",
    "#fig, ax = plt.subplots(figsize=(20,15))\n",
    "\n",
    "#sns.boxplot(x='model_name', y='accuracy', data=cv_df)\n",
    "#sns.stripplot(x='model_name', y='accuracy', data=cv_df, \n",
    "#              size=10, jitter=True, edgecolor=\"gray\", linewidth=3)\n",
    "#plt.show()"
   ]
  },
  {
   "cell_type": "code",
   "execution_count": null,
   "metadata": {},
   "outputs": [],
   "source": []
  },
  {
   "cell_type": "code",
   "execution_count": null,
   "metadata": {},
   "outputs": [],
   "source": []
  }
 ],
 "metadata": {
  "kernelspec": {
   "display_name": "Python 3",
   "language": "python",
   "name": "python3"
  },
  "language_info": {
   "codemirror_mode": {
    "name": "ipython",
    "version": 3
   },
   "file_extension": ".py",
   "mimetype": "text/x-python",
   "name": "python",
   "nbconvert_exporter": "python",
   "pygments_lexer": "ipython3",
   "version": "3.6.8"
  }
 },
 "nbformat": 4,
 "nbformat_minor": 2
}
