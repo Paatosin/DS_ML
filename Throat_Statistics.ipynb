{
 "cells": [
  {
   "cell_type": "code",
   "execution_count": 157,
   "metadata": {},
   "outputs": [],
   "source": [
    "#import \n",
    "import pandas as pd\n",
    "import os\n",
    "os.chdir('/Volumes/Godfrey/Berea Simulation results/ZLR2LDSDNew')\n",
    "psn = open('test.psn')\n",
    "widths = [20,20,20,]\n",
    "df_psn = pd.read_fwf(psn, widths=widths)\n",
    "import numpy as np"
   ]
  },
  {
   "cell_type": "code",
   "execution_count": 69,
   "metadata": {},
   "outputs": [
    {
     "data": {
      "text/html": [
       "<div>\n",
       "<style scoped>\n",
       "    .dataframe tbody tr th:only-of-type {\n",
       "        vertical-align: middle;\n",
       "    }\n",
       "\n",
       "    .dataframe tbody tr th {\n",
       "        vertical-align: top;\n",
       "    }\n",
       "\n",
       "    .dataframe thead th {\n",
       "        text-align: right;\n",
       "    }\n",
       "</style>\n",
       "<table border=\"1\" class=\"dataframe\">\n",
       "  <thead>\n",
       "    <tr style=\"text-align: right;\">\n",
       "      <th></th>\n",
       "      <th>PoreSim</th>\n",
       "      <th>Unnamed: 1</th>\n",
       "      <th>Unnamed: 2</th>\n",
       "    </tr>\n",
       "  </thead>\n",
       "  <tbody>\n",
       "    <tr>\n",
       "      <th>0</th>\n",
       "      <td>HEAD</td>\n",
       "      <td>NaN</td>\n",
       "      <td>NaN</td>\n",
       "    </tr>\n",
       "    <tr>\n",
       "      <th>1</th>\n",
       "      <td>ends</td>\n",
       "      <td>NaN</td>\n",
       "      <td>NaN</td>\n",
       "    </tr>\n",
       "    <tr>\n",
       "      <th>2</th>\n",
       "      <td>DSIZ</td>\n",
       "      <td>NaN</td>\n",
       "      <td>NaN</td>\n",
       "    </tr>\n",
       "    <tr>\n",
       "      <th>3</th>\n",
       "      <td>0.947600E-01</td>\n",
       "      <td>0.947600E-01</td>\n",
       "      <td>0.997040E-01</td>\n",
       "    </tr>\n",
       "    <tr>\n",
       "      <th>4</th>\n",
       "      <td>ends</td>\n",
       "      <td>NaN</td>\n",
       "      <td>NaN</td>\n",
       "    </tr>\n",
       "  </tbody>\n",
       "</table>\n",
       "</div>"
      ],
      "text/plain": [
       "        PoreSim    Unnamed: 1    Unnamed: 2\n",
       "0          HEAD           NaN           NaN\n",
       "1          ends           NaN           NaN\n",
       "2          DSIZ           NaN           NaN\n",
       "3  0.947600E-01  0.947600E-01  0.997040E-01\n",
       "4          ends           NaN           NaN"
      ]
     },
     "execution_count": 69,
     "metadata": {},
     "output_type": "execute_result"
    }
   ],
   "source": [
    "df_psn.head()"
   ]
  },
  {
   "cell_type": "code",
   "execution_count": 147,
   "metadata": {},
   "outputs": [
    {
     "data": {
      "text/plain": [
       "0                         NaN\n",
       "1                         NaN\n",
       "2                         NaN\n",
       "3                0.997040E-01\n",
       "4                         NaN\n",
       "5                         NaN\n",
       "6                         NaN\n",
       "7                0.203939E-13\n",
       "8                0.206000E-03\n",
       "9                0.582389E-03\n",
       "10               0.504507E-08\n",
       "11               0.442055E-04\n",
       "12               0.215836E-02\n",
       "13               0.442055E-04\n",
       "14               0.442055E-04\n",
       "15               0.381898E-13\n",
       "16               0.584342E-08\n",
       "17               0.265982E-04\n",
       "18               0.326555E-13\n",
       "19               0.442055E-04\n",
       "20               0.442055E-04\n",
       "21               0.417218E-16\n",
       "22               0.442055E-04\n",
       "23               0.554470E-03\n",
       "24               0.546638E-13\n",
       "25               0.301113E-10\n",
       "26               0.442055E-04\n",
       "27               0.561308E-03\n",
       "28               0.199349E-13\n",
       "29               0.755120E-04\n",
       "                 ...         \n",
       "55518    0.000000E+00    0.00\n",
       "55519    0.609760E-03    0.22\n",
       "55520    0.412000E-03    0.64\n",
       "55521    0.824000E-03    0.30\n",
       "55522    0.412000E-03    0.17\n",
       "55523    0.782859E-03    0.15\n",
       "55524    0.151149E-02    0.12\n",
       "55525    0.143931E-02    0.75\n",
       "55526    0.151991E-02    0.86\n",
       "55527    0.609760E-03    0.32\n",
       "55528    0.164800E-02    0.11\n",
       "55529    0.115364E-02    0.36\n",
       "55530    0.000000E+00    0.00\n",
       "55531    0.000000E+00    0.00\n",
       "55532    0.123600E-02    0.81\n",
       "55533    0.000000E+00    0.00\n",
       "55534    0.618000E-03    0.68\n",
       "55535    0.000000E+00    0.00\n",
       "55536    0.609760E-03    0.33\n",
       "55537    0.618000E-03    0.69\n",
       "55538    0.000000E+00    0.00\n",
       "55539    0.000000E+00    0.00\n",
       "55540    0.609760E-03    0.30\n",
       "55541    0.000000E+00    0.00\n",
       "55542    0.000000E+00    0.00\n",
       "55543    0.412000E-03    0.73\n",
       "55544    0.000000E+00    0.00\n",
       "55545    0.609760E-03    0.33\n",
       "55546                     NaN\n",
       "55547                     NaN\n",
       "Name: Unnamed: 2, Length: 55548, dtype: object"
      ]
     },
     "execution_count": 147,
     "metadata": {},
     "output_type": "execute_result"
    }
   ],
   "source": [
    "df_psn['Unnamed: 2']"
   ]
  },
  {
   "cell_type": "code",
   "execution_count": 158,
   "metadata": {},
   "outputs": [],
   "source": [
    "Unnamed_2 = df_psn['Unnamed: 2'].str.split(expand=True).add_prefix('Unnamed: 2_')"
   ]
  },
  {
   "cell_type": "code",
   "execution_count": 159,
   "metadata": {},
   "outputs": [],
   "source": [
    "df_psn = pd.concat([df_psn[['PoreSim']], Unnamed_2], 1)"
   ]
  },
  {
   "cell_type": "code",
   "execution_count": 161,
   "metadata": {},
   "outputs": [
    {
     "data": {
      "text/plain": [
       "0                 NaN\n",
       "1                 NaN\n",
       "2                 NaN\n",
       "3        0.997040E-01\n",
       "4                 NaN\n",
       "5                 NaN\n",
       "6                 NaN\n",
       "7        0.203939E-13\n",
       "8        0.206000E-03\n",
       "9        0.582389E-03\n",
       "10       0.504507E-08\n",
       "11       0.442055E-04\n",
       "12       0.215836E-02\n",
       "13       0.442055E-04\n",
       "14       0.442055E-04\n",
       "15       0.381898E-13\n",
       "16       0.584342E-08\n",
       "17       0.265982E-04\n",
       "18       0.326555E-13\n",
       "19       0.442055E-04\n",
       "20       0.442055E-04\n",
       "21       0.417218E-16\n",
       "22       0.442055E-04\n",
       "23       0.554470E-03\n",
       "24       0.546638E-13\n",
       "25       0.301113E-10\n",
       "26       0.442055E-04\n",
       "27       0.561308E-03\n",
       "28       0.199349E-13\n",
       "29       0.755120E-04\n",
       "             ...     \n",
       "55518    0.000000E+00\n",
       "55519    0.609760E-03\n",
       "55520    0.412000E-03\n",
       "55521    0.824000E-03\n",
       "55522    0.412000E-03\n",
       "55523    0.782859E-03\n",
       "55524    0.151149E-02\n",
       "55525    0.143931E-02\n",
       "55526    0.151991E-02\n",
       "55527    0.609760E-03\n",
       "55528    0.164800E-02\n",
       "55529    0.115364E-02\n",
       "55530    0.000000E+00\n",
       "55531    0.000000E+00\n",
       "55532    0.123600E-02\n",
       "55533    0.000000E+00\n",
       "55534    0.618000E-03\n",
       "55535    0.000000E+00\n",
       "55536    0.609760E-03\n",
       "55537    0.618000E-03\n",
       "55538    0.000000E+00\n",
       "55539    0.000000E+00\n",
       "55540    0.609760E-03\n",
       "55541    0.000000E+00\n",
       "55542    0.000000E+00\n",
       "55543    0.412000E-03\n",
       "55544    0.000000E+00\n",
       "55545    0.609760E-03\n",
       "55546             NaN\n",
       "55547             NaN\n",
       "Name: Unnamed: 2_0, Length: 55548, dtype: object"
      ]
     },
     "execution_count": 161,
     "metadata": {},
     "output_type": "execute_result"
    }
   ],
   "source": [
    "df_psn['Unnamed: 2_0']"
   ]
  },
  {
   "cell_type": "code",
   "execution_count": 149,
   "metadata": {},
   "outputs": [],
   "source": [
    "TDAT = df_psn.loc[df_psn['PoreSim']=='TDAT'].index[0] "
   ]
  },
  {
   "cell_type": "code",
   "execution_count": 150,
   "metadata": {},
   "outputs": [],
   "source": [
    "ENDF = df_psn.loc[df_psn['PoreSim']=='ENDF'].index[0]"
   ]
  },
  {
   "cell_type": "code",
   "execution_count": 151,
   "metadata": {},
   "outputs": [],
   "source": [
    "df_TDAT = df_psn[TDAT+2:ENDF-1]"
   ]
  },
  {
   "cell_type": "code",
   "execution_count": 153,
   "metadata": {},
   "outputs": [
    {
     "data": {
      "text/html": [
       "<div>\n",
       "<style scoped>\n",
       "    .dataframe tbody tr th:only-of-type {\n",
       "        vertical-align: middle;\n",
       "    }\n",
       "\n",
       "    .dataframe tbody tr th {\n",
       "        vertical-align: top;\n",
       "    }\n",
       "\n",
       "    .dataframe thead th {\n",
       "        text-align: right;\n",
       "    }\n",
       "</style>\n",
       "<table border=\"1\" class=\"dataframe\">\n",
       "  <thead>\n",
       "    <tr style=\"text-align: right;\">\n",
       "      <th></th>\n",
       "      <th>PoreSim</th>\n",
       "      <th>Unnamed: 1</th>\n",
       "      <th>Unnamed: 2</th>\n",
       "    </tr>\n",
       "  </thead>\n",
       "  <tbody>\n",
       "    <tr>\n",
       "      <th>35273</th>\n",
       "      <td>0.000000E+00</td>\n",
       "      <td>0.275240E-05</td>\n",
       "      <td>0.666630E-03    0.00</td>\n",
       "    </tr>\n",
       "    <tr>\n",
       "      <th>35274</th>\n",
       "      <td>0.000000E+00</td>\n",
       "      <td>0.000000E+00</td>\n",
       "      <td>0.497328E-03    0.00</td>\n",
       "    </tr>\n",
       "    <tr>\n",
       "      <th>35275</th>\n",
       "      <td>0.379559E-06</td>\n",
       "      <td>0.162304E-05</td>\n",
       "      <td>0.609760E-03    0.30</td>\n",
       "    </tr>\n",
       "    <tr>\n",
       "      <th>35276</th>\n",
       "      <td>0.796170E-06</td>\n",
       "      <td>0.187389E-05</td>\n",
       "      <td>0.618000E-03    0.75</td>\n",
       "    </tr>\n",
       "    <tr>\n",
       "      <th>35277</th>\n",
       "      <td>0.796170E-06</td>\n",
       "      <td>0.187389E-05</td>\n",
       "      <td>0.618000E-03    0.75</td>\n",
       "    </tr>\n",
       "  </tbody>\n",
       "</table>\n",
       "</div>"
      ],
      "text/plain": [
       "            PoreSim    Unnamed: 1            Unnamed: 2\n",
       "35273  0.000000E+00  0.275240E-05  0.666630E-03    0.00\n",
       "35274  0.000000E+00  0.000000E+00  0.497328E-03    0.00\n",
       "35275  0.379559E-06  0.162304E-05  0.609760E-03    0.30\n",
       "35276  0.796170E-06  0.187389E-05  0.618000E-03    0.75\n",
       "35277  0.796170E-06  0.187389E-05  0.618000E-03    0.75"
      ]
     },
     "execution_count": 153,
     "metadata": {},
     "output_type": "execute_result"
    }
   ],
   "source": [
    "df_TDAT.head()"
   ]
  },
  {
   "cell_type": "code",
   "execution_count": 134,
   "metadata": {},
   "outputs": [
    {
     "data": {
      "text/plain": [
       "(20273, 3)"
      ]
     },
     "execution_count": 134,
     "metadata": {},
     "output_type": "execute_result"
    }
   ],
   "source": [
    "df_TDAT.shape"
   ]
  },
  {
   "cell_type": "code",
   "execution_count": 154,
   "metadata": {},
   "outputs": [],
   "source": [
    "m=df_TDAT['Unnamed: 2']\n",
    "m=pd.DataFrame(m)\n",
    "\n",
    "for col in m:\n",
    "   m[col] = pd.to_numeric(m[col], errors='coerce')"
   ]
  },
  {
   "cell_type": "code",
   "execution_count": 155,
   "metadata": {},
   "outputs": [
    {
     "data": {
      "text/plain": [
       "Unnamed: 2    20273\n",
       "dtype: int64"
      ]
     },
     "execution_count": 155,
     "metadata": {},
     "output_type": "execute_result"
    }
   ],
   "source": [
    "m.astype(bool).sum(axis=0)  # replace insert in last line of next cell with number of m"
   ]
  },
  {
   "cell_type": "code",
   "execution_count": 138,
   "metadata": {},
   "outputs": [
    {
     "ename": "TypeError",
     "evalue": "unsupported operand type(s) for +: 'float' and 'str'",
     "output_type": "error",
     "traceback": [
      "\u001b[0;31m---------------------------------------------------------------------------\u001b[0m",
      "\u001b[0;31mTypeError\u001b[0m                                 Traceback (most recent call last)",
      "\u001b[0;32m<ipython-input-138-d23d2a05e6ec>\u001b[0m in \u001b[0;36m<module>\u001b[0;34m()\u001b[0m\n\u001b[1;32m      3\u001b[0m \u001b[0;32mfor\u001b[0m \u001b[0mi\u001b[0m \u001b[0;32min\u001b[0m \u001b[0mm\u001b[0m\u001b[0;34m:\u001b[0m\u001b[0;34m\u001b[0m\u001b[0m\n\u001b[1;32m      4\u001b[0m     \u001b[0mcount\u001b[0m \u001b[0;34m=\u001b[0m \u001b[0mcount\u001b[0m \u001b[0;34m+\u001b[0m \u001b[0;36m1\u001b[0m\u001b[0;34m\u001b[0m\u001b[0m\n\u001b[0;32m----> 5\u001b[0;31m     \u001b[0mSum\u001b[0m  \u001b[0;34m=\u001b[0m \u001b[0mSum\u001b[0m \u001b[0;34m+\u001b[0m \u001b[0mi\u001b[0m\u001b[0;34m\u001b[0m\u001b[0m\n\u001b[0m\u001b[1;32m      6\u001b[0m \u001b[0mprint\u001b[0m\u001b[0;34m(\u001b[0m\u001b[0;34m'Number of throats: \\n'\u001b[0m\u001b[0;34m,\u001b[0m \u001b[0mcount\u001b[0m\u001b[0;34m)\u001b[0m\u001b[0;34m\u001b[0m\u001b[0m\n\u001b[1;32m      7\u001b[0m \u001b[0mprint\u001b[0m\u001b[0;34m(\u001b[0m\u001b[0;34m'Sum of throat radii: \\n'\u001b[0m\u001b[0;34m,\u001b[0m \u001b[0mSum\u001b[0m\u001b[0;34m)\u001b[0m\u001b[0;34m\u001b[0m\u001b[0m\n",
      "\u001b[0;31mTypeError\u001b[0m: unsupported operand type(s) for +: 'float' and 'str'"
     ]
    }
   ],
   "source": [
    "count = 0\n",
    "Sum = 0.0\n",
    "for i in m:\n",
    "    count = count + 1\n",
    "    Sum  = Sum + i\n",
    "print('Number of throats: \\n', count)\n",
    "print('Sum of throat radii: \\n', Sum)\n",
    "print('Average throat radius in microns: \\n', 10000*(Sum/19124))"
   ]
  },
  {
   "cell_type": "code",
   "execution_count": 118,
   "metadata": {},
   "outputs": [],
   "source": [
    "m=df_TDAT['PoreSim']\n",
    "m=pd.DataFrame(m)"
   ]
  },
  {
   "cell_type": "code",
   "execution_count": 126,
   "metadata": {},
   "outputs": [],
   "source": [
    "for col in m:\n",
    "   m[col] = pd.to_numeric(m[col], errors='coerce')\n",
    "   "
   ]
  },
  {
   "cell_type": "code",
   "execution_count": 141,
   "metadata": {},
   "outputs": [
    {
     "data": {
      "text/html": [
       "<div>\n",
       "<style scoped>\n",
       "    .dataframe tbody tr th:only-of-type {\n",
       "        vertical-align: middle;\n",
       "    }\n",
       "\n",
       "    .dataframe tbody tr th {\n",
       "        vertical-align: top;\n",
       "    }\n",
       "\n",
       "    .dataframe thead th {\n",
       "        text-align: right;\n",
       "    }\n",
       "</style>\n",
       "<table border=\"1\" class=\"dataframe\">\n",
       "  <thead>\n",
       "    <tr style=\"text-align: right;\">\n",
       "      <th></th>\n",
       "      <th>PoreSim</th>\n",
       "    </tr>\n",
       "  </thead>\n",
       "  <tbody>\n",
       "    <tr>\n",
       "      <th>35273</th>\n",
       "      <td>0.000000e+00</td>\n",
       "    </tr>\n",
       "    <tr>\n",
       "      <th>35274</th>\n",
       "      <td>0.000000e+00</td>\n",
       "    </tr>\n",
       "    <tr>\n",
       "      <th>35275</th>\n",
       "      <td>3.795590e-07</td>\n",
       "    </tr>\n",
       "    <tr>\n",
       "      <th>35276</th>\n",
       "      <td>7.961700e-07</td>\n",
       "    </tr>\n",
       "    <tr>\n",
       "      <th>35277</th>\n",
       "      <td>7.961700e-07</td>\n",
       "    </tr>\n",
       "  </tbody>\n",
       "</table>\n",
       "</div>"
      ],
      "text/plain": [
       "            PoreSim\n",
       "35273  0.000000e+00\n",
       "35274  0.000000e+00\n",
       "35275  3.795590e-07\n",
       "35276  7.961700e-07\n",
       "35277  7.961700e-07"
      ]
     },
     "execution_count": 141,
     "metadata": {},
     "output_type": "execute_result"
    }
   ],
   "source": [
    "m.head()"
   ]
  },
  {
   "cell_type": "code",
   "execution_count": 139,
   "metadata": {},
   "outputs": [],
   "source": [
    "num=m.astype(bool).sum(axis=0)"
   ]
  },
  {
   "cell_type": "code",
   "execution_count": 140,
   "metadata": {},
   "outputs": [
    {
     "name": "stdout",
     "output_type": "stream",
     "text": [
      "            PoreSim\n",
      "35273  0.000000e+00\n",
      "35274  0.000000e+00\n",
      "35275  3.795590e-07\n",
      "35276  7.961700e-07\n",
      "35277  7.961700e-07\n",
      "35278  0.000000e+00\n",
      "35279  3.795590e-07\n",
      "35280  2.400540e-07\n",
      "35281  6.120210e-07\n",
      "35282  0.000000e+00\n",
      "35283  3.795590e-07\n",
      "35284  0.000000e+00\n",
      "35285  2.940050e-07\n",
      "35286  1.697440e-07\n",
      "35287  7.201630e-07\n",
      "35288  0.000000e+00\n",
      "35289  2.015600e-06\n",
      "35290  0.000000e+00\n",
      "35291  1.527700e-06\n",
      "35292  1.527700e-06\n",
      "35293  0.000000e+00\n",
      "35294  2.213190e-06\n",
      "35295  0.000000e+00\n",
      "35296  1.979540e-06\n",
      "35297  0.000000e+00\n",
      "35298  2.400540e-07\n",
      "35299  2.400540e-07\n",
      "35300  0.000000e+00\n",
      "35301  1.281540e-06\n",
      "35302  1.697440e-07\n",
      "...             ...\n",
      "55516  3.795590e-07\n",
      "55517  7.398970e-07\n",
      "55518  0.000000e+00\n",
      "55519  3.795590e-07\n",
      "55520  1.697440e-07\n",
      "55521  5.201480e-06\n",
      "55522  0.000000e+00\n",
      "55523  3.060100e-06\n",
      "55524  1.404980e-05\n",
      "55525  7.587390e-06\n",
      "55526  6.682830e-06\n",
      "55527  9.751050e-07\n",
      "55528  7.526380e-06\n",
      "55529  3.863310e-06\n",
      "55530  0.000000e+00\n",
      "55531  0.000000e+00\n",
      "55532  8.907920e-06\n",
      "55533  0.000000e+00\n",
      "55534  7.778650e-07\n",
      "55535  0.000000e+00\n",
      "55536  6.998720e-07\n",
      "55537  7.591180e-07\n",
      "55538  0.000000e+00\n",
      "55539  0.000000e+00\n",
      "55540  3.795590e-07\n",
      "55541  0.000000e+00\n",
      "55542  0.000000e+00\n",
      "55543  2.940050e-07\n",
      "55544  0.000000e+00\n",
      "55545  6.120210e-07\n",
      "\n",
      "[20273 rows x 1 columns]\n"
     ]
    }
   ],
   "source": [
    "print(m)"
   ]
  },
  {
   "cell_type": "code",
   "execution_count": 142,
   "metadata": {},
   "outputs": [
    {
     "name": "stdout",
     "output_type": "stream",
     "text": [
      "<class 'pandas.core.frame.DataFrame'>\n",
      "RangeIndex: 20273 entries, 35273 to 55545\n",
      "Data columns (total 1 columns):\n",
      "PoreSim    20273 non-null float64\n",
      "dtypes: float64(1)\n",
      "memory usage: 158.5 KB\n"
     ]
    }
   ],
   "source": [
    "m.info()"
   ]
  },
  {
   "cell_type": "code",
   "execution_count": null,
   "metadata": {},
   "outputs": [],
   "source": [
    "for i in m['PoreSim']:\n",
    "    count"
   ]
  },
  {
   "cell_type": "code",
   "execution_count": 145,
   "metadata": {},
   "outputs": [
    {
     "data": {
      "text/plain": [
       "0.02532282246914871"
      ]
     },
     "execution_count": 145,
     "metadata": {},
     "output_type": "execute_result"
    }
   ],
   "source": [
    "(m['PoreSim'].sum()/19124)*10000"
   ]
  },
  {
   "cell_type": "code",
   "execution_count": null,
   "metadata": {},
   "outputs": [],
   "source": []
  }
 ],
 "metadata": {
  "kernelspec": {
   "display_name": "Python 3",
   "language": "python",
   "name": "python3"
  },
  "language_info": {
   "codemirror_mode": {
    "name": "ipython",
    "version": 3
   },
   "file_extension": ".py",
   "mimetype": "text/x-python",
   "name": "python",
   "nbconvert_exporter": "python",
   "pygments_lexer": "ipython3",
   "version": "3.6.8"
  }
 },
 "nbformat": 4,
 "nbformat_minor": 2
}
